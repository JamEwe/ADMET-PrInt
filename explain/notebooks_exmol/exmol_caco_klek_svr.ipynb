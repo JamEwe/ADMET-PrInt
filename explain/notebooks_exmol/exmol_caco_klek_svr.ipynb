{
 "cells": [
  {
   "cell_type": "code",
   "execution_count": 1,
   "metadata": {},
   "outputs": [],
   "source": [
    "from rdkit import Chem\n",
    "from rdkit.Chem.Draw import IPythonConsole\n",
    "import numpy as np\n",
    "\n",
    "from rdkit.Chem import MACCSkeys\n",
    "import pickle\n",
    "from exmol_our import exmol\n",
    "from functools import partial\n",
    "import preprocess\n",
    "\n",
    "from sklearn.ensemble import RandomForestRegressor\n",
    "import pickle\n",
    "import pandas as pd\n",
    "from sklearn.model_selection import KFold\n",
    "import random\n",
    "\n",
    "import warnings\n",
    "warnings.filterwarnings('ignore')\n",
    "import json\n",
    "import pickle\n",
    "import scipy.cluster.hierarchy as hc\n",
    "\n",
    "from rdkit import Chem  \n",
    "from rdkit.Chem import MolFromSmiles as smi2mol \n",
    "\n",
    "from rdkit.Chem import AllChem  \n",
    "from rdkit.DataStructs.cDataStructs import BulkTanimotoSimilarity, TanimotoSimilarity \n",
    "from rdkit.Chem import Mol  \n",
    "from functions import from_smiles\n",
    "\n",
    "import warnings\n",
    "warnings.simplefilter(\"ignore\", UserWarning)"
   ]
  },
  {
   "cell_type": "code",
   "execution_count": 2,
   "metadata": {},
   "outputs": [],
   "source": [
    "data_type = 'caco'\n",
    "feature_type = 'klek'\n",
    "model_type = 'svr'"
   ]
  },
  {
   "attachments": {},
   "cell_type": "markdown",
   "metadata": {},
   "source": [
    "## Load fingerprint data"
   ]
  },
  {
   "cell_type": "code",
   "execution_count": 3,
   "metadata": {},
   "outputs": [],
   "source": [
    "data_path = f'../../data/processed/{data_type}_{feature_type}_all.csv'\n",
    "df = pd.read_csv(data_path)\n",
    "\n",
    "# 2. Split data to X and y \n",
    "X_fp = df.loc[:, df.columns != df.columns[0]]\n",
    "y_fp = df[df.columns[0]]\n",
    "\n",
    "X = df.loc[:, df.columns != df.columns[0]]\n",
    "idxs = preprocess.remove_low_variance(X, threshold=0.01)\n",
    "idxs_proper = [int(i.replace('KRFP', ''))-1 for i in idxs]\n",
    "\n",
    "X_fp = X_fp[idxs.tolist()]\n",
    "\n",
    "X_fp = np.array(X_fp)\n",
    "y_fp = np.array(y_fp)"
   ]
  },
  {
   "attachments": {},
   "cell_type": "markdown",
   "metadata": {},
   "source": [
    "## Get predictions"
   ]
  },
  {
   "cell_type": "code",
   "execution_count": 4,
   "metadata": {},
   "outputs": [],
   "source": [
    "first_splits = KFold(n_splits=5, shuffle=True, random_state=42)\n",
    "predictions = np.zeros((len(X_fp)))\n",
    "for fold_1, (train_idx,test_idx) in enumerate(first_splits.split(np.arange(len(X_fp)))):\n",
    "    train_x = X_fp[train_idx]\n",
    "    test_x = X_fp[test_idx]\n",
    "    model = pickle.load(open(f'../../models/{data_type}_{feature_type}_{model_type}_{fold_1+1}.pkl', 'rb'))\n",
    "    predictions[test_idx] = model.predict(test_x)"
   ]
  },
  {
   "attachments": {},
   "cell_type": "markdown",
   "metadata": {},
   "source": [
    "## Load smiles data"
   ]
  },
  {
   "cell_type": "code",
   "execution_count": 5,
   "metadata": {},
   "outputs": [],
   "source": [
    "data_path = f'../../data/processed/{data_type}_smiles_all.csv'\n",
    "df = pd.read_csv(data_path)\n",
    "df['predictions'] = predictions\n",
    "df = df[df['predictions']<=10] # get inactive examples\n",
    "\n",
    "# 2. Split data to X and y \n",
    "X_sm = df[['smiles']]\n",
    "y_sm = df[['permeability']]"
   ]
  },
  {
   "cell_type": "code",
   "execution_count": 6,
   "metadata": {},
   "outputs": [
    {
     "data": {
      "text/plain": [
       "1603"
      ]
     },
     "execution_count": 6,
     "metadata": {},
     "output_type": "execute_result"
    }
   ],
   "source": [
    "len(X_sm)"
   ]
  },
  {
   "attachments": {},
   "cell_type": "markdown",
   "metadata": {},
   "source": [
    "## Clustering"
   ]
  },
  {
   "cell_type": "code",
   "execution_count": 7,
   "metadata": {},
   "outputs": [],
   "source": [
    "ECFP4 = [AllChem.GetMorganFingerprint(Chem.MolFromSmiles(smiles[0]), 2) for smiles in X_sm.values]\n",
    "M = np.array([BulkTanimotoSimilarity(f, ECFP4) for f in ECFP4])\n",
    "M2 = 1 - M\n",
    "dist_df = pd.DataFrame(M2, index = X_sm.values, columns= X_sm.values)\n",
    "clustered = hc.linkage(M2, method='complete')"
   ]
  },
  {
   "cell_type": "code",
   "execution_count": 8,
   "metadata": {},
   "outputs": [],
   "source": [
    "from scipy.cluster.hierarchy import cut_tree\n",
    "n_clusters = 20\n",
    "clusters = cut_tree(clustered, n_clusters = n_clusters).T\n",
    "df_clustered = pd.DataFrame({'Column1': list(X_sm.values), 'Column2': clusters[0]})"
   ]
  },
  {
   "cell_type": "code",
   "execution_count": 9,
   "metadata": {},
   "outputs": [
    {
     "data": {
      "text/plain": [
       "[(17, 16),\n",
       " (16, 21),\n",
       " (3, 27),\n",
       " (19, 28),\n",
       " (2, 34),\n",
       " (12, 34),\n",
       " (14, 36),\n",
       " (7, 39),\n",
       " (9, 45),\n",
       " (18, 47),\n",
       " (10, 59),\n",
       " (13, 61),\n",
       " (15, 67),\n",
       " (5, 71),\n",
       " (8, 104),\n",
       " (0, 126),\n",
       " (11, 130),\n",
       " (6, 145),\n",
       " (4, 186),\n",
       " (1, 327)]"
      ]
     },
     "execution_count": 9,
     "metadata": {},
     "output_type": "execute_result"
    }
   ],
   "source": [
    "from collections import Counter\n",
    "c = Counter(list(df_clustered['Column2']))\n",
    "sorted(c.items(), key=lambda i: i[1])"
   ]
  },
  {
   "attachments": {},
   "cell_type": "markdown",
   "metadata": {},
   "source": [
    "## Get samples"
   ]
  },
  {
   "cell_type": "code",
   "execution_count": null,
   "metadata": {},
   "outputs": [],
   "source": [
    "random.seed(42)\n",
    "np.random.seed(42)\n",
    "n_clusters = 100\n",
    "x = 1000/len(X_sm.values)\n",
    "samples = []\n",
    "for i in range(n_clusters):\n",
    "    C_i = np.where(df_clustered.Column2 == i)[0].tolist() \n",
    "    n_i = len(C_i)\n",
    "    sample_i = random.sample(C_i, round(x * n_i)) \n",
    "    samples += list(sample_i)"
   ]
  },
  {
   "attachments": {},
   "cell_type": "markdown",
   "metadata": {},
   "source": [
    "## Exmol"
   ]
  },
  {
   "cell_type": "code",
   "execution_count": 11,
   "metadata": {},
   "outputs": [],
   "source": [
    "def GetKlekFp(smiles):\n",
    "    fp = from_smiles(smiles, fingerprints=True, descriptors=False, fingerprint_type='klek').values()\n",
    "    return np.array(list(fp), dtype=np.int8)[np.array(idxs_proper)]"
   ]
  },
  {
   "cell_type": "code",
   "execution_count": 12,
   "metadata": {},
   "outputs": [],
   "source": [
    "def model_predict(smiles, model):\n",
    "    fingerprint = GetKlekFp(smiles)\n",
    "    prediction  = model.predict(fingerprint.reshape(1,-1))\n",
    "    return prediction"
   ]
  },
  {
   "cell_type": "code",
   "execution_count": 13,
   "metadata": {},
   "outputs": [],
   "source": [
    "def get_changed_idxs(cfs):\n",
    "    orignal_smiles = cfs[0].smiles\n",
    "    orignal_fs = GetKlekFp(orignal_smiles)\n",
    "    counterfc_fp = [GetKlekFp(counterfc.smiles) for counterfc in cfs[1:] if counterfc.label.startswith('Increase')]\n",
    "    return [(np.where((orignal_fs-cfp)==1)[0], np.where((orignal_fs-cfp)==-1)[0]) for cfp in counterfc_fp] # (-,+)"
   ]
  },
  {
   "cell_type": "code",
   "execution_count": 14,
   "metadata": {},
   "outputs": [],
   "source": [
    "def get_cfs(examples, model, thd):\n",
    "    changed_indx_list = []\n",
    "    for exp in examples.values:\n",
    "        space = exmol.sample_space(exp[0], partial(model_predict, model=model), preset=\"medium\", num_samples=150, batched=False)\n",
    "        prediction = model_predict(exp[0], model)[0]\n",
    "        if prediction<0:\n",
    "            radius = round(float(thd+abs(prediction)),2)\n",
    "        else:\n",
    "            radius = round(float(thd-prediction),2)\n",
    "        cfs = exmol.rcf_explain(space, radius, nmols=4)\n",
    "        changed_idxs = get_changed_idxs(cfs)\n",
    "        changed_indx_list += changed_idxs\n",
    "    return changed_indx_list "
   ]
  },
  {
   "cell_type": "code",
   "execution_count": 15,
   "metadata": {},
   "outputs": [
    {
     "name": "stderr",
     "output_type": "stream",
     "text": [
      "🤘Done🤘: 100%|██████████| 43.0/43 [00:00<00:00, 997.84it/s]                       \n",
      "🤘Done🤘: 100%|██████████| 48.0/48 [00:00<00:00, 975.69it/s]                       \n",
      "🤘Done🤘: 100%|██████████| 52.0/52 [00:00<00:00, 1063.13it/s]                      \n",
      "🤘Done🤘: 100%|██████████| 38.0/38 [00:00<00:00, 1082.31it/s]                      \n",
      "🤘Done🤘: 100%|██████████| 41.0/41 [00:00<00:00, 1112.23it/s]                      \n",
      "🤘Done🤘: 100%|██████████| 53.0/53 [00:00<00:00, 853.33it/s]                       \n",
      "🤘Done🤘: 100%|██████████| 48.0/48 [00:00<00:00, 1094.12it/s]                      \n",
      "🤘Done🤘: 100%|██████████| 56.0/56 [00:00<00:00, 1070.00it/s]                      \n",
      "🤘Done🤘: 100%|██████████| 37.0/37 [00:00<00:00, 1083.10it/s]                      \n",
      "🤘Done🤘: 100%|██████████| 53.0/53 [00:00<00:00, 594.01it/s]                       \n",
      "🤘Done🤘: 100%|██████████| 69.0/69 [00:00<00:00, 1112.99it/s]                      \n",
      "🤘Done🤘: 100%|██████████| 29.0/29 [00:00<00:00, 1128.21it/s]                      \n",
      "🤘Done🤘: 100%|██████████| 45.0/45 [00:00<00:00, 1045.28it/s]                      \n",
      "🤘Done🤘: 100%|██████████| 34.0/34 [00:00<00:00, 913.66it/s]                       \n",
      "🤘Done🤘: 100%|██████████| 54.0/54 [00:00<00:00, 979.86it/s]                       \n",
      "🤘Done🤘: 100%|██████████| 34.0/34 [00:00<00:00, 1200.45it/s]                      \n",
      "🤘Done🤘: 100%|██████████| 54.0/54 [00:00<00:00, 1052.33it/s]                      \n",
      "🤘Done🤘: 100%|██████████| 24.0/24 [00:00<00:00, 1160.60it/s]                      \n",
      "🤘Done🤘: 100%|██████████| 40.0/40 [00:00<00:00, 1161.18it/s]                      \n",
      "🤘Done🤘: 100%|██████████| 46.0/46 [00:00<00:00, 1131.38it/s]                      \n",
      "🤘Done🤘: 100%|██████████| 48.0/48 [00:00<00:00, 818.21it/s]                       \n",
      "🤘Done🤘: 100%|██████████| 35.0/35 [00:00<00:00, 1405.42it/s]                      \n",
      "🤘Done🤘: 100%|██████████| 52.0/52 [00:00<00:00, 1199.26it/s]                      \n",
      "🤘Done🤘: 100%|██████████| 59.0/59 [00:00<00:00, 838.34it/s]                       \n",
      "🤘Done🤘: 100%|██████████| 51.0/51 [00:00<00:00, 996.04it/s]                       \n",
      "🤘Done🤘: 100%|██████████| 61.0/61 [00:00<00:00, 979.48it/s]                       \n",
      "🤘Done🤘: 100%|██████████| 51.0/51 [00:00<00:00, 1329.03it/s]                      \n",
      "🤘Done🤘: 100%|██████████| 69.0/69 [00:00<00:00, 877.67it/s]                       \n",
      "🤘Done🤘: 100%|██████████| 56.0/56 [00:00<00:00, 1098.66it/s]                      \n",
      "🤘Done🤘: 100%|██████████| 38.0/38 [00:00<00:00, 905.95it/s]                       \n",
      "🤘Done🤘: 100%|██████████| 43.0/43 [00:00<00:00, 1011.79it/s]                      \n",
      "🤘Done🤘: 100%|██████████| 60.0/60 [00:00<00:00, 1105.41it/s]                      \n",
      "🤘Done🤘: 100%|██████████| 64.0/64 [00:00<00:00, 1264.53it/s]                      \n",
      "🤘Done🤘: 100%|██████████| 38.0/38 [00:00<00:00, 1261.36it/s]                      \n",
      "🤘Done🤘: 100%|██████████| 44.0/44 [00:00<00:00, 957.19it/s]                       \n",
      "🤘Done🤘: 100%|██████████| 45.0/45 [00:00<00:00, 1231.81it/s]                      \n",
      "🤘Done🤘: 100%|██████████| 52.0/52 [00:00<00:00, 899.40it/s]                       \n",
      "🤘Done🤘: 100%|██████████| 70.0/70 [00:00<00:00, 999.33it/s]                       \n",
      "🤘Done🤘: 100%|██████████| 41.0/41 [00:00<00:00, 668.72it/s]                       \n",
      "🤘Done🤘: 100%|██████████| 39.0/39 [00:00<00:00, 1355.84it/s]                      \n",
      "🤘Done🤘: 100%|██████████| 43.0/43 [00:00<00:00, 834.77it/s]                       \n",
      "🤘Done🤘: 100%|██████████| 33.0/33 [00:00<00:00, 896.09it/s]                       \n",
      "🤘Done🤘: 100%|██████████| 43.0/43 [00:00<00:00, 917.41it/s]                       \n",
      "🤘Done🤘: 100%|██████████| 70.0/70 [00:00<00:00, 1043.99it/s]                      \n",
      "🤘Done🤘: 100%|██████████| 48.0/48 [00:00<00:00, 1130.95it/s]                      \n",
      "🤘Done🤘: 100%|██████████| 44.0/44 [00:00<00:00, 875.07it/s]                       \n",
      "🤘Done🤘: 100%|██████████| 38.0/38 [00:00<00:00, 1239.96it/s]                      \n",
      "🤘Done🤘: 100%|██████████| 62.0/62 [00:00<00:00, 1119.03it/s]                      \n",
      "🤘Done🤘: 100%|██████████| 44.0/44 [00:00<00:00, 859.75it/s]                       \n",
      "🤘Done🤘: 100%|██████████| 35.0/35 [00:00<00:00, 1289.22it/s]                      \n",
      "🤘Done🤘: 100%|██████████| 49.0/49 [00:00<00:00, 847.22it/s]                       \n",
      "🤘Done🤘: 100%|██████████| 59.0/59 [00:00<00:00, 1122.88it/s]                      \n",
      "🤘Done🤘: 100%|██████████| 52.0/52 [00:00<00:00, 955.88it/s]                       \n",
      "🤘Done🤘: 100%|██████████| 53.0/53 [00:00<00:00, 814.95it/s]                       \n",
      "🤘Done🤘: 100%|██████████| 65.0/65 [00:00<00:00, 1027.04it/s]                      \n",
      "🤘Done🤘: 100%|██████████| 55.0/55 [00:00<00:00, 895.98it/s]                       \n",
      "🤘Done🤘: 100%|██████████| 49.0/49 [00:00<00:00, 1167.29it/s]                      \n",
      "🤘Done🤘: 100%|██████████| 36.0/36 [00:00<00:00, 821.55it/s]                       \n",
      "🤘Done🤘: 100%|██████████| 68.0/68 [00:00<00:00, 1155.26it/s]                      \n",
      "🤘Done🤘: 100%|██████████| 57.0/57 [00:00<00:00, 1026.40it/s]                      \n",
      "🤘Done🤘: 100%|██████████| 39.0/39 [00:00<00:00, 1194.61it/s]                      \n",
      "🤘Done🤘: 100%|██████████| 42.0/42 [00:00<00:00, 1035.25it/s]                      \n",
      "🤘Done🤘: 100%|██████████| 60.0/60 [00:00<00:00, 919.09it/s]                       \n",
      "🤘Done🤘: 100%|██████████| 63.0/63 [00:00<00:00, 1105.31it/s]                      \n",
      "🤘Done🤘: 100%|██████████| 46.0/46 [00:00<00:00, 943.74it/s]                       \n",
      "🤘Done🤘: 100%|██████████| 43.0/43 [00:00<00:00, 1359.12it/s]                      \n",
      "🤘Done🤘: 100%|██████████| 52.0/52 [00:00<00:00, 1306.34it/s]                      \n",
      "🤘Done🤘: 100%|██████████| 49.0/49 [00:00<00:00, 1033.45it/s]                      \n",
      "🤘Done🤘: 100%|██████████| 33.0/33 [00:00<00:00, 1317.41it/s]                      \n",
      "🤘Done🤘: 100%|██████████| 47.0/47 [00:00<00:00, 763.21it/s]                       \n",
      "🤘Done🤘: 100%|██████████| 48.0/48 [00:00<00:00, 787.11it/s]                       \n",
      "🤘Done🤘: 100%|██████████| 58.0/58 [00:00<00:00, 1056.78it/s]                      \n",
      "🤘Done🤘: 100%|██████████| 57.0/57 [00:00<00:00, 794.31it/s]                       \n",
      "🤘Done🤘: 100%|██████████| 41.0/41 [00:00<00:00, 1188.44it/s]                      \n",
      "🤘Done🤘: 100%|██████████| 40.0/40 [00:00<00:00, 1268.55it/s]                      \n",
      "🤘Done🤘: 100%|██████████| 62.0/62 [00:00<00:00, 1237.20it/s]                      \n",
      "🤘Done🤘: 100%|██████████| 50.0/50 [00:00<00:00, 1075.21it/s]                      \n",
      "🤘Done🤘: 100%|██████████| 40.0/40 [00:00<00:00, 1380.34it/s]                      \n",
      "🤘Done🤘: 100%|██████████| 48.0/48 [00:00<00:00, 940.80it/s]                       \n",
      "🤘Done🤘: 100%|██████████| 68.0/68 [00:00<00:00, 1094.53it/s]                      \n",
      "🤘Done🤘: 100%|██████████| 46.0/46 [00:00<00:00, 1112.93it/s]                      \n",
      "🤘Done🤘: 100%|██████████| 70.0/70 [00:00<00:00, 1051.68it/s]                      \n",
      "🤘Done🤘: 100%|██████████| 46.0/46 [00:00<00:00, 1160.68it/s]                      \n",
      "🤘Done🤘: 100%|██████████| 42.0/42 [00:00<00:00, 898.66it/s]                       \n",
      "🤘Done🤘: 100%|██████████| 77.0/77 [00:00<00:00, 954.15it/s]                       \n",
      "🤘Done🤘: 100%|██████████| 41.0/41 [00:00<00:00, 756.87it/s]                       \n",
      "🤘Done🤘: 100%|██████████| 46.0/46 [00:00<00:00, 1078.06it/s]                      \n",
      "🤘Done🤘: 100%|██████████| 76.0/76 [00:00<00:00, 980.23it/s]                       \n",
      "🤘Done🤘: 100%|██████████| 70.0/70 [00:00<00:00, 852.15it/s]                       \n",
      "🤘Done🤘: 100%|██████████| 45.0/45 [00:00<00:00, 915.05it/s]                       \n",
      "🤘Done🤘: 100%|██████████| 47.0/47 [00:00<00:00, 851.90it/s]                       \n",
      "🤘Done🤘: 100%|██████████| 61.0/61 [00:00<00:00, 1107.04it/s]                      \n",
      "🤘Done🤘: 100%|██████████| 42.0/42 [00:00<00:00, 1188.50it/s]                      \n",
      "🤘Done🤘: 100%|██████████| 54.0/54 [00:00<00:00, 930.17it/s]                       \n",
      "🤘Done🤘: 100%|██████████| 51.0/51 [00:00<00:00, 1092.58it/s]                      \n",
      "🤘Done🤘: 100%|██████████| 35.0/35 [00:00<00:00, 1079.61it/s]                      \n",
      "🤘Done🤘: 100%|██████████| 54.0/54 [00:00<00:00, 1292.75it/s]                      \n",
      "🤘Done🤘: 100%|██████████| 54.0/54 [00:00<00:00, 1117.27it/s]                      \n",
      "🤘Done🤘: 100%|██████████| 54.0/54 [00:00<00:00, 964.30it/s]                       \n",
      "🤘Done🤘: 100%|██████████| 45.0/45 [00:00<00:00, 986.05it/s]                       \n"
     ]
    }
   ],
   "source": [
    "first_splits = KFold(n_splits=5, shuffle=True, random_state=42)\n",
    "changed_indx_list = []\n",
    "for fold_1, (train_idx,test_idx) in enumerate(first_splits.split(np.arange(len(X_sm)))):\n",
    "    test_idx = np.array(list(set(test_idx) & set(samples)))\n",
    "    test_x = X_sm.iloc[test_idx]\n",
    "    model = pickle.load(open(f'../../models/{data_type}_{feature_type}_{model_type}_{fold_1+1}.pkl', 'rb'))\n",
    "    changed_indx_list += get_cfs(test_x, model, 10.0)"
   ]
  },
  {
   "cell_type": "code",
   "execution_count": 16,
   "metadata": {},
   "outputs": [
    {
     "data": {
      "text/plain": [
       "117"
      ]
     },
     "execution_count": 16,
     "metadata": {},
     "output_type": "execute_result"
    }
   ],
   "source": [
    "len(changed_indx_list)"
   ]
  },
  {
   "attachments": {},
   "cell_type": "markdown",
   "metadata": {},
   "source": [
    "#### Mean removed fingerprints"
   ]
  },
  {
   "cell_type": "code",
   "execution_count": 17,
   "metadata": {},
   "outputs": [
    {
     "data": {
      "text/plain": [
       "9.205128205128204"
      ]
     },
     "execution_count": 17,
     "metadata": {},
     "output_type": "execute_result"
    }
   ],
   "source": [
    "np.mean([len(list(c[0])) for c in changed_indx_list])"
   ]
  },
  {
   "attachments": {},
   "cell_type": "markdown",
   "metadata": {},
   "source": [
    "#### Mean added fingerprints"
   ]
  },
  {
   "cell_type": "code",
   "execution_count": 18,
   "metadata": {},
   "outputs": [
    {
     "data": {
      "text/plain": [
       "5.863247863247863"
      ]
     },
     "execution_count": 18,
     "metadata": {},
     "output_type": "execute_result"
    }
   ],
   "source": [
    "np.mean([len(list(c[1])) for c in changed_indx_list])"
   ]
  },
  {
   "attachments": {},
   "cell_type": "markdown",
   "metadata": {},
   "source": [
    "#### Most frequent removed fingerprints"
   ]
  },
  {
   "cell_type": "code",
   "execution_count": 19,
   "metadata": {},
   "outputs": [],
   "source": [
    "with open('../../klek_keys_dict.pickle', 'rb') as fp:\n",
    "    Klek_keys_dict = pickle.load(fp)"
   ]
  },
  {
   "cell_type": "code",
   "execution_count": 20,
   "metadata": {},
   "outputs": [],
   "source": [
    "def map_to_smarts(df):\n",
    "    df_mapped = df + 1\n",
    "    df_mapped = df_mapped.applymap(lambda x: Klek_keys_dict[x])\n",
    "    return df_mapped"
   ]
  },
  {
   "cell_type": "code",
   "execution_count": 21,
   "metadata": {},
   "outputs": [],
   "source": [
    "def map_to_proper(df):\n",
    "    df_mapped = df.applymap(lambda x: idxs_proper[x])\n",
    "    return df_mapped"
   ]
  },
  {
   "cell_type": "code",
   "execution_count": 22,
   "metadata": {},
   "outputs": [
    {
     "name": "stdout",
     "output_type": "stream",
     "text": [
      "277\n"
     ]
    },
    {
     "data": {
      "text/html": [
       "<div>\n",
       "<style scoped>\n",
       "    .dataframe tbody tr th:only-of-type {\n",
       "        vertical-align: middle;\n",
       "    }\n",
       "\n",
       "    .dataframe tbody tr th {\n",
       "        vertical-align: top;\n",
       "    }\n",
       "\n",
       "    .dataframe thead th {\n",
       "        text-align: right;\n",
       "    }\n",
       "</style>\n",
       "<table border=\"1\" class=\"dataframe\">\n",
       "  <thead>\n",
       "    <tr style=\"text-align: right;\">\n",
       "      <th></th>\n",
       "      <th>Smarts</th>\n",
       "      <th>Counts</th>\n",
       "    </tr>\n",
       "  </thead>\n",
       "  <tbody>\n",
       "    <tr>\n",
       "      <th>0</th>\n",
       "      <td>604</td>\n",
       "      <td>135</td>\n",
       "    </tr>\n",
       "    <tr>\n",
       "      <th>1</th>\n",
       "      <td>3914</td>\n",
       "      <td>132</td>\n",
       "    </tr>\n",
       "    <tr>\n",
       "      <th>2</th>\n",
       "      <td>3156</td>\n",
       "      <td>125</td>\n",
       "    </tr>\n",
       "    <tr>\n",
       "      <th>3</th>\n",
       "      <td>222</td>\n",
       "      <td>125</td>\n",
       "    </tr>\n",
       "    <tr>\n",
       "      <th>4</th>\n",
       "      <td>3660</td>\n",
       "      <td>125</td>\n",
       "    </tr>\n",
       "    <tr>\n",
       "      <th>5</th>\n",
       "      <td>4293</td>\n",
       "      <td>125</td>\n",
       "    </tr>\n",
       "    <tr>\n",
       "      <th>6</th>\n",
       "      <td>3401</td>\n",
       "      <td>101</td>\n",
       "    </tr>\n",
       "    <tr>\n",
       "      <th>7</th>\n",
       "      <td>3740</td>\n",
       "      <td>92</td>\n",
       "    </tr>\n",
       "    <tr>\n",
       "      <th>8</th>\n",
       "      <td>3781</td>\n",
       "      <td>91</td>\n",
       "    </tr>\n",
       "    <tr>\n",
       "      <th>9</th>\n",
       "      <td>838</td>\n",
       "      <td>72</td>\n",
       "    </tr>\n",
       "  </tbody>\n",
       "</table>\n",
       "</div>"
      ],
      "text/plain": [
       "   Smarts  Counts\n",
       "0     604     135\n",
       "1    3914     132\n",
       "2    3156     125\n",
       "3     222     125\n",
       "4    3660     125\n",
       "5    4293     125\n",
       "6    3401     101\n",
       "7    3740      92\n",
       "8    3781      91\n",
       "9     838      72"
      ]
     },
     "execution_count": 22,
     "metadata": {},
     "output_type": "execute_result"
    }
   ],
   "source": [
    "from collections import Counter\n",
    "counts = Counter([item for sublist in [list(c[0]) for c in changed_indx_list] for item in sublist])\n",
    "print(len(counts))\n",
    "sorted_counts = sorted(counts.items(), key=lambda i: i[1], reverse=True)[:10]\n",
    "df_sorted_counts = pd.DataFrame({'Smarts': [x[0] for x in sorted_counts], 'Counts': [x[1] for x in sorted_counts]})\n",
    "df_sorted_counts = map_to_proper(df_sorted_counts)\n",
    "df_sorted_counts"
   ]
  },
  {
   "cell_type": "code",
   "execution_count": 23,
   "metadata": {},
   "outputs": [
    {
     "data": {
      "text/html": [
       "<div>\n",
       "<style scoped>\n",
       "    .dataframe tbody tr th:only-of-type {\n",
       "        vertical-align: middle;\n",
       "    }\n",
       "\n",
       "    .dataframe tbody tr th {\n",
       "        vertical-align: top;\n",
       "    }\n",
       "\n",
       "    .dataframe thead th {\n",
       "        text-align: right;\n",
       "    }\n",
       "</style>\n",
       "<table border=\"1\" class=\"dataframe\">\n",
       "  <thead>\n",
       "    <tr style=\"text-align: right;\">\n",
       "      <th></th>\n",
       "      <th>Smarts</th>\n",
       "      <th>Counts</th>\n",
       "    </tr>\n",
       "  </thead>\n",
       "  <tbody>\n",
       "    <tr>\n",
       "      <th>0</th>\n",
       "      <td>[!#1][CH2]N([!#1])[CH2][!#1]</td>\n",
       "      <td>135</td>\n",
       "    </tr>\n",
       "    <tr>\n",
       "      <th>1</th>\n",
       "      <td>CN1CCCCC1</td>\n",
       "      <td>132</td>\n",
       "    </tr>\n",
       "    <tr>\n",
       "      <th>2</th>\n",
       "      <td>C1CCNCC1</td>\n",
       "      <td>125</td>\n",
       "    </tr>\n",
       "    <tr>\n",
       "      <th>3</th>\n",
       "      <td>[!#1][CH]1[CH2][CH2][CH2]N([!#1])[CH2]1</td>\n",
       "      <td>125</td>\n",
       "    </tr>\n",
       "    <tr>\n",
       "      <th>4</th>\n",
       "      <td>CCC(C)N</td>\n",
       "      <td>125</td>\n",
       "    </tr>\n",
       "    <tr>\n",
       "      <th>5</th>\n",
       "      <td>NCCN</td>\n",
       "      <td>125</td>\n",
       "    </tr>\n",
       "    <tr>\n",
       "      <th>6</th>\n",
       "      <td>CC(C)N</td>\n",
       "      <td>101</td>\n",
       "    </tr>\n",
       "    <tr>\n",
       "      <th>7</th>\n",
       "      <td>CCCN(C)C</td>\n",
       "      <td>92</td>\n",
       "    </tr>\n",
       "    <tr>\n",
       "      <th>8</th>\n",
       "      <td>CCNCC</td>\n",
       "      <td>91</td>\n",
       "    </tr>\n",
       "    <tr>\n",
       "      <th>9</th>\n",
       "      <td>[!#1][NH]C(=O)[!#1]</td>\n",
       "      <td>72</td>\n",
       "    </tr>\n",
       "  </tbody>\n",
       "</table>\n",
       "</div>"
      ],
      "text/plain": [
       "                                    Smarts  Counts\n",
       "0             [!#1][CH2]N([!#1])[CH2][!#1]     135\n",
       "1                                CN1CCCCC1     132\n",
       "2                                 C1CCNCC1     125\n",
       "3  [!#1][CH]1[CH2][CH2][CH2]N([!#1])[CH2]1     125\n",
       "4                                  CCC(C)N     125\n",
       "5                                     NCCN     125\n",
       "6                                   CC(C)N     101\n",
       "7                                 CCCN(C)C      92\n",
       "8                                    CCNCC      91\n",
       "9                      [!#1][NH]C(=O)[!#1]      72"
      ]
     },
     "execution_count": 23,
     "metadata": {},
     "output_type": "execute_result"
    }
   ],
   "source": [
    "df_sorted_counts['Smarts'] = map_to_smarts(df_sorted_counts[['Smarts']])\n",
    "df_sorted_counts.to_csv(f'files/{data_type}/{data_type}_{feature_type}_{model_type}_most_frequent_removed_fps.csv', index=False)\n",
    "df_sorted_counts"
   ]
  },
  {
   "attachments": {},
   "cell_type": "markdown",
   "metadata": {},
   "source": [
    "#### Most frequent added fingerprints"
   ]
  },
  {
   "cell_type": "code",
   "execution_count": 24,
   "metadata": {},
   "outputs": [
    {
     "name": "stdout",
     "output_type": "stream",
     "text": [
      "241\n"
     ]
    },
    {
     "data": {
      "text/html": [
       "<div>\n",
       "<style scoped>\n",
       "    .dataframe tbody tr th:only-of-type {\n",
       "        vertical-align: middle;\n",
       "    }\n",
       "\n",
       "    .dataframe tbody tr th {\n",
       "        vertical-align: top;\n",
       "    }\n",
       "\n",
       "    .dataframe thead th {\n",
       "        text-align: right;\n",
       "    }\n",
       "</style>\n",
       "<table border=\"1\" class=\"dataframe\">\n",
       "  <thead>\n",
       "    <tr style=\"text-align: right;\">\n",
       "      <th></th>\n",
       "      <th>Smarts</th>\n",
       "      <th>Counts</th>\n",
       "    </tr>\n",
       "  </thead>\n",
       "  <tbody>\n",
       "    <tr>\n",
       "      <th>0</th>\n",
       "      <td>2985</td>\n",
       "      <td>92</td>\n",
       "    </tr>\n",
       "    <tr>\n",
       "      <th>1</th>\n",
       "      <td>3057</td>\n",
       "      <td>72</td>\n",
       "    </tr>\n",
       "    <tr>\n",
       "      <th>2</th>\n",
       "      <td>3439</td>\n",
       "      <td>72</td>\n",
       "    </tr>\n",
       "    <tr>\n",
       "      <th>3</th>\n",
       "      <td>3442</td>\n",
       "      <td>66</td>\n",
       "    </tr>\n",
       "    <tr>\n",
       "      <th>4</th>\n",
       "      <td>3906</td>\n",
       "      <td>44</td>\n",
       "    </tr>\n",
       "    <tr>\n",
       "      <th>5</th>\n",
       "      <td>3368</td>\n",
       "      <td>32</td>\n",
       "    </tr>\n",
       "    <tr>\n",
       "      <th>6</th>\n",
       "      <td>676</td>\n",
       "      <td>32</td>\n",
       "    </tr>\n",
       "    <tr>\n",
       "      <th>7</th>\n",
       "      <td>125</td>\n",
       "      <td>24</td>\n",
       "    </tr>\n",
       "    <tr>\n",
       "      <th>8</th>\n",
       "      <td>3395</td>\n",
       "      <td>24</td>\n",
       "    </tr>\n",
       "    <tr>\n",
       "      <th>9</th>\n",
       "      <td>3767</td>\n",
       "      <td>24</td>\n",
       "    </tr>\n",
       "  </tbody>\n",
       "</table>\n",
       "</div>"
      ],
      "text/plain": [
       "   Smarts  Counts\n",
       "0    2985      92\n",
       "1    3057      72\n",
       "2    3439      72\n",
       "3    3442      66\n",
       "4    3906      44\n",
       "5    3368      32\n",
       "6     676      32\n",
       "7     125      24\n",
       "8    3395      24\n",
       "9    3767      24"
      ]
     },
     "execution_count": 24,
     "metadata": {},
     "output_type": "execute_result"
    }
   ],
   "source": [
    "counts = Counter([item for sublist in [list(c[1]) for c in changed_indx_list] for item in sublist])\n",
    "print(len(counts))\n",
    "sorted_counts = sorted(counts.items(), key=lambda i: i[1], reverse=True)[:10]\n",
    "df_sorted_counts = pd.DataFrame({'Smarts': [x[0] for x in sorted_counts], 'Counts': [x[1] for x in sorted_counts]})\n",
    "df_sorted_counts = map_to_proper(df_sorted_counts)\n",
    "df_sorted_counts"
   ]
  },
  {
   "cell_type": "code",
   "execution_count": 25,
   "metadata": {},
   "outputs": [
    {
     "data": {
      "text/html": [
       "<div>\n",
       "<style scoped>\n",
       "    .dataframe tbody tr th:only-of-type {\n",
       "        vertical-align: middle;\n",
       "    }\n",
       "\n",
       "    .dataframe tbody tr th {\n",
       "        vertical-align: top;\n",
       "    }\n",
       "\n",
       "    .dataframe thead th {\n",
       "        text-align: right;\n",
       "    }\n",
       "</style>\n",
       "<table border=\"1\" class=\"dataframe\">\n",
       "  <thead>\n",
       "    <tr style=\"text-align: right;\">\n",
       "      <th></th>\n",
       "      <th>Smarts</th>\n",
       "      <th>Counts</th>\n",
       "    </tr>\n",
       "  </thead>\n",
       "  <tbody>\n",
       "    <tr>\n",
       "      <th>0</th>\n",
       "      <td>C=C</td>\n",
       "      <td>92</td>\n",
       "    </tr>\n",
       "    <tr>\n",
       "      <th>1</th>\n",
       "      <td>C1CC1</td>\n",
       "      <td>72</td>\n",
       "    </tr>\n",
       "    <tr>\n",
       "      <th>2</th>\n",
       "      <td>CC=C</td>\n",
       "      <td>72</td>\n",
       "    </tr>\n",
       "    <tr>\n",
       "      <th>3</th>\n",
       "      <td>CC=N</td>\n",
       "      <td>66</td>\n",
       "    </tr>\n",
       "    <tr>\n",
       "      <th>4</th>\n",
       "      <td>CN=C</td>\n",
       "      <td>44</td>\n",
       "    </tr>\n",
       "    <tr>\n",
       "      <th>5</th>\n",
       "      <td>CC(C)C</td>\n",
       "      <td>32</td>\n",
       "    </tr>\n",
       "    <tr>\n",
       "      <th>6</th>\n",
       "      <td>[!#1][NH][!#1]</td>\n",
       "      <td>32</td>\n",
       "    </tr>\n",
       "    <tr>\n",
       "      <th>7</th>\n",
       "      <td>[!#1][CH]=[CH][!#1]</td>\n",
       "      <td>24</td>\n",
       "    </tr>\n",
       "    <tr>\n",
       "      <th>8</th>\n",
       "      <td>CC(C)CN</td>\n",
       "      <td>24</td>\n",
       "    </tr>\n",
       "    <tr>\n",
       "      <th>9</th>\n",
       "      <td>CCN=C</td>\n",
       "      <td>24</td>\n",
       "    </tr>\n",
       "  </tbody>\n",
       "</table>\n",
       "</div>"
      ],
      "text/plain": [
       "                Smarts  Counts\n",
       "0                  C=C      92\n",
       "1                C1CC1      72\n",
       "2                 CC=C      72\n",
       "3                 CC=N      66\n",
       "4                 CN=C      44\n",
       "5               CC(C)C      32\n",
       "6       [!#1][NH][!#1]      32\n",
       "7  [!#1][CH]=[CH][!#1]      24\n",
       "8              CC(C)CN      24\n",
       "9                CCN=C      24"
      ]
     },
     "execution_count": 25,
     "metadata": {},
     "output_type": "execute_result"
    }
   ],
   "source": [
    "df_sorted_counts['Smarts'] = map_to_smarts(df_sorted_counts[['Smarts']])\n",
    "df_sorted_counts.to_csv(f'files/{data_type}/{data_type}_{feature_type}_{model_type}_most_frequent_added_fps.csv', index=False)\n",
    "df_sorted_counts"
   ]
  }
 ],
 "metadata": {
  "kernelspec": {
   "display_name": "admet_new",
   "language": "python",
   "name": "python3"
  },
  "language_info": {
   "codemirror_mode": {
    "name": "ipython",
    "version": 3
   },
   "file_extension": ".py",
   "mimetype": "text/x-python",
   "name": "python",
   "nbconvert_exporter": "python",
   "pygments_lexer": "ipython3",
   "version": "3.8.0"
  },
  "orig_nbformat": 4,
  "vscode": {
   "interpreter": {
    "hash": "49ce5039e74f835a081fa802d90bfd65d1f81ef26227a92772f915fb78b8b700"
   }
  }
 },
 "nbformat": 4,
 "nbformat_minor": 2
}
