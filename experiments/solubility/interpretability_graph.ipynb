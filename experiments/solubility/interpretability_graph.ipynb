{
 "cells": [
  {
   "cell_type": "markdown",
   "metadata": {},
   "source": [
    "## Libraries 📖"
   ]
  },
  {
   "cell_type": "code",
   "execution_count": 20,
   "metadata": {},
   "outputs": [],
   "source": [
    "import pandas as pd\n",
    "import numpy as np\n",
    "import pickle\n",
    "import dill\n",
    "import json\n",
    "\n",
    "import lime\n",
    "from lime import lime_tabular\n",
    "\n",
    "import matplotlib.pyplot as plt\n",
    "\n",
    "from rdkit import Chem\n",
    "from rdkit.Chem import MACCSkeys\n",
    "from rdkit.Chem import AllChem\n",
    "from rdkit.Chem.Draw import rdMolDraw2D\n",
    "\n",
    "import torch\n",
    "import torch.nn as nn\n",
    "from torch_geometric.data import Data\n",
    "from torch_geometric.nn import global_mean_pool as gap, global_max_pool as gmp\n",
    "from torch_geometric.nn import GCNConv, Sequential as GraphSequential\n",
    "import torch.nn.functional as F\n",
    "\n",
    "from IPython.display import SVG\n",
    "import matplotlib\n",
    "import matplotlib.cm as cm\n",
    "\n",
    "from sklearn import metrics\n",
    "\n",
    "np.random.seed(1234)"
   ]
  },
  {
   "cell_type": "markdown",
   "metadata": {},
   "source": [
    "# Graph Convolutional Neural Network"
   ]
  },
  {
   "cell_type": "markdown",
   "metadata": {},
   "source": [
    "## Featurizer 🧪"
   ]
  },
  {
   "cell_type": "code",
   "execution_count": 2,
   "metadata": {},
   "outputs": [],
   "source": [
    "# Feauterizer from course \"Machine Learning in Drug Design\" at Jagiellonian University, Kraków, Poland.\n",
    "\n",
    "class Featurizer:\n",
    "    def __init__(self, y_column, **kwargs):\n",
    "        self.y_column = y_column\n",
    "        self.__dict__.update(kwargs)\n",
    "    \n",
    "    def __call__(self, df):\n",
    "        raise NotImplementedError()\n",
    "\n",
    "def one_of_k_encoding(x, allowable_set):\n",
    "    if x not in allowable_set:\n",
    "        raise ValueError(\"input {0} not in allowable set{1}:\".format(\n",
    "            x, allowable_set))\n",
    "    return list(map(lambda s: x == s, allowable_set))\n",
    "\n",
    "\n",
    "def one_of_k_encoding_unk(x, allowable_set):\n",
    "    if x not in allowable_set:\n",
    "        x = allowable_set[-1]\n",
    "    return list(map(lambda s: x == s, allowable_set))\n",
    "        \n",
    "\n",
    "class GraphFeaturizer(Featurizer):\n",
    "    def __call__(self, smiles):\n",
    "        graphs = []\n",
    "        mol = Chem.MolFromSmiles(smiles)\n",
    "\n",
    "        edges = []\n",
    "        for bond in mol.GetBonds():\n",
    "            edges.append([bond.GetBeginAtomIdx(), bond.GetEndAtomIdx()])\n",
    "            edges.append([bond.GetEndAtomIdx(), bond.GetBeginAtomIdx()])\n",
    "        edges = np.array(edges)\n",
    "\n",
    "        nodes = []\n",
    "        for atom in mol.GetAtoms():\n",
    "            results = one_of_k_encoding_unk(\n",
    "                atom.GetSymbol(),\n",
    "                [\n",
    "                    'Br', 'C', 'Cl', 'F', 'H', 'I', 'N', 'O', 'P', 'S', 'Unknown'\n",
    "                ]\n",
    "            ) + one_of_k_encoding(\n",
    "                atom.GetDegree(),\n",
    "                [0, 1, 2, 3, 4, 5, 6, 7, 8, 9, 10]\n",
    "            ) + one_of_k_encoding_unk(\n",
    "                atom.GetImplicitValence(),\n",
    "                [0, 1, 2, 3, 4, 5, 6]\n",
    "            ) + [atom.GetFormalCharge(), atom.GetNumRadicalElectrons()] + one_of_k_encoding_unk(\n",
    "                atom.GetHybridization(),\n",
    "                [\n",
    "                    Chem.rdchem.HybridizationType.SP, Chem.rdchem.HybridizationType.SP2,\n",
    "                    Chem.rdchem.HybridizationType.SP3, Chem.rdchem.HybridizationType.SP3D,\n",
    "                    Chem.rdchem.HybridizationType.SP3D2\n",
    "                ]\n",
    "            ) + [atom.GetIsAromatic()] + one_of_k_encoding_unk(\n",
    "                atom.GetTotalNumHs(),\n",
    "                [0, 1, 2, 3, 4]\n",
    "            )\n",
    "            nodes.append(results)\n",
    "\n",
    "        nodes = np.array(nodes)\n",
    "            \n",
    "        graphs.append((nodes, edges.T))\n",
    "        return graphs"
   ]
  },
  {
   "cell_type": "markdown",
   "metadata": {},
   "source": [
    "## Model "
   ]
  },
  {
   "cell_type": "code",
   "execution_count": 5,
   "metadata": {},
   "outputs": [],
   "source": [
    "class GraphNeuralNetwork(torch.nn.Module):\n",
    "    def __init__(self):\n",
    "        super(GraphNeuralNetwork, self).__init__()\n",
    "        torch.manual_seed(42)\n",
    "        self.final_conv_acts = None\n",
    "        self.final_conv_grads = None\n",
    "\n",
    "        self.conv1 = GCNConv(42, 100)\n",
    "        self.conv2 = GCNConv(100, 400)\n",
    "        self.conv3 = GCNConv(400, 200)\n",
    "        self.conv4 = GCNConv(200, 100)\n",
    "\n",
    "        self.out = nn.Linear(100, 50)\n",
    "        self.out2 = nn.Linear(50, 1)\n",
    "    \n",
    "    def activations_hook(self, grad):\n",
    "        self.final_conv_grads = grad\n",
    "\n",
    "    def forward(self, x, edge_index, batch_index):\n",
    "        out = self.conv1(x, edge_index)\n",
    "        out = F.relu(out)\n",
    "        out = self.conv2(out, edge_index)\n",
    "        out = F.relu(out)\n",
    "        out = self.conv3(out, edge_index)\n",
    "        out = F.relu(out)\n",
    "        out = F.dropout(out, training=self.training) #p=0.5\n",
    "        \n",
    "        with torch.enable_grad():\n",
    "            self.final_conv_acts = self.conv4(out, edge_index)\n",
    "        self.final_conv_acts.register_hook(self.activations_hook)\n",
    "        \n",
    "        out = F.relu(self.final_conv_acts)\n",
    "        out = gap(out, batch_index) # global_mean_pool\n",
    "        out = self.out(out)\n",
    "        out = F.relu(out)\n",
    "        out = self.out2(out)\n",
    "\n",
    "        return out"
   ]
  },
  {
   "cell_type": "code",
   "execution_count": 6,
   "metadata": {},
   "outputs": [
    {
     "data": {
      "text/plain": [
       "GraphNeuralNetwork(\n",
       "  (conv1): GCNConv(42, 100)\n",
       "  (conv2): GCNConv(100, 400)\n",
       "  (conv3): GCNConv(400, 200)\n",
       "  (conv4): GCNConv(200, 100)\n",
       "  (out): Linear(in_features=100, out_features=50, bias=True)\n",
       "  (out2): Linear(in_features=50, out_features=1, bias=True)\n",
       ")"
      ]
     },
     "execution_count": 6,
     "metadata": {},
     "output_type": "execute_result"
    }
   ],
   "source": [
    "model = GraphNeuralNetwork()\n",
    "model.load_state_dict(torch.load('../../models/solubility_graph_model_0.pt')) # best model\n",
    "model.eval()"
   ]
  },
  {
   "cell_type": "markdown",
   "metadata": {},
   "source": [
    "## GradCam "
   ]
  },
  {
   "cell_type": "code",
   "execution_count": 7,
   "metadata": {},
   "outputs": [],
   "source": [
    "def grad_cam(final_conv_acts, final_conv_grads):\n",
    "    node_heat_map = []\n",
    "    alphas = torch.mean(final_conv_grads, axis=0)\n",
    "    for n in range(final_conv_acts.shape[0]):\n",
    "        node_heat = F.relu(alphas @ final_conv_acts[n]).item()\n",
    "        node_heat_map.append(node_heat)\n",
    "    return node_heat_map"
   ]
  },
  {
   "cell_type": "markdown",
   "metadata": {},
   "source": [
    "## Predict and inteprete"
   ]
  },
  {
   "cell_type": "code",
   "execution_count": 8,
   "metadata": {},
   "outputs": [],
   "source": [
    "def draw_gradcam(atom_weights, mol):\n",
    "    atom_weights = np.array(atom_weights)\n",
    "    if (atom_weights > 0.).any():\n",
    "        atom_weights = atom_weights / atom_weights.max() / 2\n",
    "\n",
    "    if len(atom_weights) > 0:\n",
    "        norm = matplotlib.colors.Normalize(vmin=-1, vmax=1)\n",
    "        cmap = cm.get_cmap('bwr')\n",
    "        plt_colors = cm.ScalarMappable(norm=norm, cmap=cmap)\n",
    "        atom_colors = {\n",
    "            i: plt_colors.to_rgba(atom_weights[i]) for i in range(len(atom_weights))\n",
    "        }\n",
    "        highlight_kwargs = {\n",
    "            'highlightAtoms': list(range(len(atom_weights))),\n",
    "            'highlightBonds': [],\n",
    "            'highlightAtomColors': atom_colors\n",
    "        }\n",
    "\n",
    "    d = rdMolDraw2D.MolDraw2DSVG(500, 500) \n",
    "    rdMolDraw2D.PrepareAndDrawMolecule(d, mol, **highlight_kwargs)\n",
    "    d.FinishDrawing()\n",
    "    svg = d.GetDrawingText()\n",
    "    svg = svg.replace('svg:', '')\n",
    "    return SVG(svg)"
   ]
  },
  {
   "cell_type": "code",
   "execution_count": 9,
   "metadata": {},
   "outputs": [
    {
     "name": "stdout",
     "output_type": "stream",
     "text": [
      "Prediction: 3.6310346\n"
     ]
    },
    {
     "data": {
      "image/svg+xml": [
       "<svg xmlns=\"http://www.w3.org/2000/svg\" xmlns:rdkit=\"http://www.rdkit.org/xml\" xmlns:xlink=\"http://www.w3.org/1999/xlink\" version=\"1.1\" baseProfile=\"full\" xml:space=\"preserve\" width=\"500px\" height=\"500px\" viewBox=\"0 0 500 500\">\n",
       "<!-- END OF HEADER -->\n",
       "<rect style=\"opacity:1.0;fill:#FFFFFF;stroke:none\" width=\"500\" height=\"500\" x=\"0\" y=\"0\"> </rect>\n",
       "<ellipse cx=\"191.827\" cy=\"203.352\" rx=\"7.33942\" ry=\"7.54591\" style=\"fill:#FFDADA;fill-rule:evenodd;stroke:#FFDADA;stroke-width:1.0px;stroke-linecap:butt;stroke-linejoin:miter;stroke-opacity:1\"/>\n",
       "<ellipse cx=\"176.303\" cy=\"236.523\" rx=\"7.33942\" ry=\"7.33942\" style=\"fill:#FFC0C0;fill-rule:evenodd;stroke:#FFC0C0;stroke-width:1.0px;stroke-linecap:butt;stroke-linejoin:miter;stroke-opacity:1\"/>\n",
       "<ellipse cx=\"197.337\" cy=\"266.593\" rx=\"7.33942\" ry=\"7.33942\" style=\"fill:#FFD2D2;fill-rule:evenodd;stroke:#FFD2D2;stroke-width:1.0px;stroke-linecap:butt;stroke-linejoin:miter;stroke-opacity:1\"/>\n",
       "<ellipse cx=\"233.896\" cy=\"263.412\" rx=\"7.33942\" ry=\"7.33942\" style=\"fill:#FFD6D6;fill-rule:evenodd;stroke:#FFD6D6;stroke-width:1.0px;stroke-linecap:butt;stroke-linejoin:miter;stroke-opacity:1\"/>\n",
       "<ellipse cx=\"254.93\" cy=\"293.483\" rx=\"7.33942\" ry=\"7.33942\" style=\"fill:#FFE0E0;fill-rule:evenodd;stroke:#FFE0E0;stroke-width:1.0px;stroke-linecap:butt;stroke-linejoin:miter;stroke-opacity:1\"/>\n",
       "<ellipse cx=\"291.489\" cy=\"290.302\" rx=\"7.33942\" ry=\"7.34869\" style=\"fill:#FFDEDE;fill-rule:evenodd;stroke:#FFDEDE;stroke-width:1.0px;stroke-linecap:butt;stroke-linejoin:miter;stroke-opacity:1\"/>\n",
       "<ellipse cx=\"312.524\" cy=\"320.372\" rx=\"7.33942\" ry=\"7.33942\" style=\"fill:#FFDEDE;fill-rule:evenodd;stroke:#FFDEDE;stroke-width:1.0px;stroke-linecap:butt;stroke-linejoin:miter;stroke-opacity:1\"/>\n",
       "<ellipse cx=\"349.083\" cy=\"317.191\" rx=\"7.33942\" ry=\"7.33942\" style=\"fill:#FFDEDE;fill-rule:evenodd;stroke:#FFDEDE;stroke-width:1.0px;stroke-linecap:butt;stroke-linejoin:miter;stroke-opacity:1\"/>\n",
       "<ellipse cx=\"364.607\" cy=\"283.94\" rx=\"7.33942\" ry=\"7.33942\" style=\"fill:#FFDADA;fill-rule:evenodd;stroke:#FFDADA;stroke-width:1.0px;stroke-linecap:butt;stroke-linejoin:miter;stroke-opacity:1\"/>\n",
       "<ellipse cx=\"399.348\" cy=\"305.083\" rx=\"13.3792\" ry=\"7.54591\" style=\"fill:#FFFEFE;fill-rule:evenodd;stroke:#FFFEFE;stroke-width:1.0px;stroke-linecap:butt;stroke-linejoin:miter;stroke-opacity:1\"/>\n",
       "<ellipse cx=\"390.568\" cy=\"258.003\" rx=\"7.33942\" ry=\"7.33942\" style=\"fill:#FF9898;fill-rule:evenodd;stroke:#FF9898;stroke-width:1.0px;stroke-linecap:butt;stroke-linejoin:miter;stroke-opacity:1\"/>\n",
       "<ellipse cx=\"426.011\" cy=\"267.518\" rx=\"7.33942\" ry=\"7.33942\" style=\"fill:#FF9494;fill-rule:evenodd;stroke:#FF9494;stroke-width:1.0px;stroke-linecap:butt;stroke-linejoin:miter;stroke-opacity:1\"/>\n",
       "<ellipse cx=\"451.972\" cy=\"241.581\" rx=\"7.33942\" ry=\"7.33942\" style=\"fill:#FF9090;fill-rule:evenodd;stroke:#FF9090;stroke-width:1.0px;stroke-linecap:butt;stroke-linejoin:miter;stroke-opacity:1\"/>\n",
       "<ellipse cx=\"442.49\" cy=\"206.13\" rx=\"7.33942\" ry=\"7.33942\" style=\"fill:#FF7E7E;fill-rule:evenodd;stroke:#FF7E7E;stroke-width:1.0px;stroke-linecap:butt;stroke-linejoin:miter;stroke-opacity:1\"/>\n",
       "<ellipse cx=\"469.758\" cy=\"180.26\" rx=\"7.51477\" ry=\"7.97147\" style=\"fill:#FF9A9A;fill-rule:evenodd;stroke:#FF9A9A;stroke-width:1.0px;stroke-linecap:butt;stroke-linejoin:miter;stroke-opacity:1\"/>\n",
       "<ellipse cx=\"407.048\" cy=\"196.616\" rx=\"7.33942\" ry=\"7.33942\" style=\"fill:#FF9090;fill-rule:evenodd;stroke:#FF9090;stroke-width:1.0px;stroke-linecap:butt;stroke-linejoin:miter;stroke-opacity:1\"/>\n",
       "<ellipse cx=\"381.087\" cy=\"222.552\" rx=\"7.33942\" ry=\"7.33942\" style=\"fill:#FF9494;fill-rule:evenodd;stroke:#FF9494;stroke-width:1.0px;stroke-linecap:butt;stroke-linejoin:miter;stroke-opacity:1\"/>\n",
       "<ellipse cx=\"343.573\" cy=\"253.869\" rx=\"7.33942\" ry=\"7.33942\" style=\"fill:#FFDEDE;fill-rule:evenodd;stroke:#FFDEDE;stroke-width:1.0px;stroke-linecap:butt;stroke-linejoin:miter;stroke-opacity:1\"/>\n",
       "<ellipse cx=\"307.014\" cy=\"257.05\" rx=\"7.33942\" ry=\"7.33942\" style=\"fill:#FFDEDE;fill-rule:evenodd;stroke:#FFDEDE;stroke-width:1.0px;stroke-linecap:butt;stroke-linejoin:miter;stroke-opacity:1\"/>\n",
       "<ellipse cx=\"139.744\" cy=\"239.704\" rx=\"7.33942\" ry=\"7.33942\" style=\"fill:#FF9292;fill-rule:evenodd;stroke:#FF9292;stroke-width:1.0px;stroke-linecap:butt;stroke-linejoin:miter;stroke-opacity:1\"/>\n",
       "<ellipse cx=\"118.709\" cy=\"209.634\" rx=\"7.33942\" ry=\"7.33942\" style=\"fill:#FF8E8E;fill-rule:evenodd;stroke:#FF8E8E;stroke-width:1.0px;stroke-linecap:butt;stroke-linejoin:miter;stroke-opacity:1\"/>\n",
       "<ellipse cx=\"82.1503\" cy=\"212.815\" rx=\"7.33942\" ry=\"7.33942\" style=\"fill:#FF8E8E;fill-rule:evenodd;stroke:#FF8E8E;stroke-width:1.0px;stroke-linecap:butt;stroke-linejoin:miter;stroke-opacity:1\"/>\n",
       "<ellipse cx=\"66.6257\" cy=\"246.066\" rx=\"7.33942\" ry=\"7.33942\" style=\"fill:#FF8282;fill-rule:evenodd;stroke:#FF8282;stroke-width:1.0px;stroke-linecap:butt;stroke-linejoin:miter;stroke-opacity:1\"/>\n",
       "<ellipse cx=\"30.0667\" cy=\"249.247\" rx=\"7.33942\" ry=\"7.34869\" style=\"fill:#FFA6A6;fill-rule:evenodd;stroke:#FFA6A6;stroke-width:1.0px;stroke-linecap:butt;stroke-linejoin:miter;stroke-opacity:1\"/>\n",
       "<ellipse cx=\"87.66\" cy=\"276.137\" rx=\"7.33942\" ry=\"7.33942\" style=\"fill:#FF8E8E;fill-rule:evenodd;stroke:#FF8E8E;stroke-width:1.0px;stroke-linecap:butt;stroke-linejoin:miter;stroke-opacity:1\"/>\n",
       "<ellipse cx=\"124.219\" cy=\"272.956\" rx=\"7.33942\" ry=\"7.33942\" style=\"fill:#FF8E8E;fill-rule:evenodd;stroke:#FF8E8E;stroke-width:1.0px;stroke-linecap:butt;stroke-linejoin:miter;stroke-opacity:1\"/>\n",
       "<path class=\"bond-0 atom-0 atom-1\" d=\"M 185.545,208.053 L 179.261,221.512\" style=\"fill:none;fill-rule:evenodd;stroke:#FF0000;stroke-width:2.0px;stroke-linecap:butt;stroke-linejoin:miter;stroke-opacity:1\"/>\n",
       "<path class=\"bond-0 atom-0 atom-1\" d=\"M 179.261,221.512 L 172.977,234.97\" style=\"fill:none;fill-rule:evenodd;stroke:#000000;stroke-width:2.0px;stroke-linecap:butt;stroke-linejoin:miter;stroke-opacity:1\"/>\n",
       "<path class=\"bond-0 atom-0 atom-1\" d=\"M 192.195,211.158 L 185.911,224.617\" style=\"fill:none;fill-rule:evenodd;stroke:#FF0000;stroke-width:2.0px;stroke-linecap:butt;stroke-linejoin:miter;stroke-opacity:1\"/>\n",
       "<path class=\"bond-0 atom-0 atom-1\" d=\"M 185.911,224.617 L 179.628,238.075\" style=\"fill:none;fill-rule:evenodd;stroke:#000000;stroke-width:2.0px;stroke-linecap:butt;stroke-linejoin:miter;stroke-opacity:1\"/>\n",
       "<path class=\"bond-1 atom-1 atom-2\" d=\"M 176.303,236.523 L 197.337,266.593\" style=\"fill:none;fill-rule:evenodd;stroke:#000000;stroke-width:2.0px;stroke-linecap:butt;stroke-linejoin:miter;stroke-opacity:1\"/>\n",
       "<path class=\"bond-18 atom-1 atom-19\" d=\"M 176.303,236.523 L 139.744,239.704\" style=\"fill:none;fill-rule:evenodd;stroke:#000000;stroke-width:2.0px;stroke-linecap:butt;stroke-linejoin:miter;stroke-opacity:1\"/>\n",
       "<path class=\"bond-2 atom-2 atom-3\" d=\"M 197.337,266.593 L 233.896,263.412\" style=\"fill:none;fill-rule:evenodd;stroke:#000000;stroke-width:2.0px;stroke-linecap:butt;stroke-linejoin:miter;stroke-opacity:1\"/>\n",
       "<path class=\"bond-3 atom-3 atom-4\" d=\"M 233.896,263.412 L 254.93,293.483\" style=\"fill:none;fill-rule:evenodd;stroke:#000000;stroke-width:2.0px;stroke-linecap:butt;stroke-linejoin:miter;stroke-opacity:1\"/>\n",
       "<path class=\"bond-4 atom-4 atom-5\" d=\"M 254.93,293.483 L 270.78,292.104\" style=\"fill:none;fill-rule:evenodd;stroke:#000000;stroke-width:2.0px;stroke-linecap:butt;stroke-linejoin:miter;stroke-opacity:1\"/>\n",
       "<path class=\"bond-4 atom-4 atom-5\" d=\"M 270.78,292.104 L 286.631,290.725\" style=\"fill:none;fill-rule:evenodd;stroke:#0000FF;stroke-width:2.0px;stroke-linecap:butt;stroke-linejoin:miter;stroke-opacity:1\"/>\n",
       "<path class=\"bond-5 atom-5 atom-6\" d=\"M 295.766,296.416 L 304.145,308.394\" style=\"fill:none;fill-rule:evenodd;stroke:#0000FF;stroke-width:2.0px;stroke-linecap:butt;stroke-linejoin:miter;stroke-opacity:1\"/>\n",
       "<path class=\"bond-5 atom-5 atom-6\" d=\"M 304.145,308.394 L 312.524,320.372\" style=\"fill:none;fill-rule:evenodd;stroke:#000000;stroke-width:2.0px;stroke-linecap:butt;stroke-linejoin:miter;stroke-opacity:1\"/>\n",
       "<path class=\"bond-25 atom-18 atom-5\" d=\"M 307.014,257.05 L 300.679,270.619\" style=\"fill:none;fill-rule:evenodd;stroke:#000000;stroke-width:2.0px;stroke-linecap:butt;stroke-linejoin:miter;stroke-opacity:1\"/>\n",
       "<path class=\"bond-25 atom-18 atom-5\" d=\"M 300.679,270.619 L 294.344,284.188\" style=\"fill:none;fill-rule:evenodd;stroke:#0000FF;stroke-width:2.0px;stroke-linecap:butt;stroke-linejoin:miter;stroke-opacity:1\"/>\n",
       "<path class=\"bond-6 atom-6 atom-7\" d=\"M 312.524,320.372 L 349.083,317.191\" style=\"fill:none;fill-rule:evenodd;stroke:#000000;stroke-width:2.0px;stroke-linecap:butt;stroke-linejoin:miter;stroke-opacity:1\"/>\n",
       "<path class=\"bond-7 atom-7 atom-8\" d=\"M 349.083,317.191 L 364.607,283.94\" style=\"fill:none;fill-rule:evenodd;stroke:#000000;stroke-width:2.0px;stroke-linecap:butt;stroke-linejoin:miter;stroke-opacity:1\"/>\n",
       "<path class=\"bond-8 atom-8 atom-9\" d=\"M 364.607,283.94 L 376.789,292.478\" style=\"fill:none;fill-rule:evenodd;stroke:#000000;stroke-width:2.0px;stroke-linecap:butt;stroke-linejoin:miter;stroke-opacity:1\"/>\n",
       "<path class=\"bond-8 atom-8 atom-9\" d=\"M 376.789,292.478 L 388.97,301.016\" style=\"fill:none;fill-rule:evenodd;stroke:#FF0000;stroke-width:2.0px;stroke-linecap:butt;stroke-linejoin:miter;stroke-opacity:1\"/>\n",
       "<path class=\"bond-9 atom-8 atom-10\" d=\"M 364.607,283.94 L 390.568,258.003\" style=\"fill:none;fill-rule:evenodd;stroke:#000000;stroke-width:2.0px;stroke-linecap:butt;stroke-linejoin:miter;stroke-opacity:1\"/>\n",
       "<path class=\"bond-16 atom-8 atom-17\" d=\"M 364.607,283.94 L 343.573,253.869\" style=\"fill:none;fill-rule:evenodd;stroke:#000000;stroke-width:2.0px;stroke-linecap:butt;stroke-linejoin:miter;stroke-opacity:1\"/>\n",
       "<path class=\"bond-10 atom-10 atom-11\" d=\"M 390.568,258.003 L 426.011,267.518\" style=\"fill:none;fill-rule:evenodd;stroke:#000000;stroke-width:2.0px;stroke-linecap:butt;stroke-linejoin:miter;stroke-opacity:1\"/>\n",
       "<path class=\"bond-10 atom-10 atom-11\" d=\"M 397.788,252.342 L 422.597,259.002\" style=\"fill:none;fill-rule:evenodd;stroke:#000000;stroke-width:2.0px;stroke-linecap:butt;stroke-linejoin:miter;stroke-opacity:1\"/>\n",
       "<path class=\"bond-27 atom-16 atom-10\" d=\"M 381.087,222.552 L 390.568,258.003\" style=\"fill:none;fill-rule:evenodd;stroke:#000000;stroke-width:2.0px;stroke-linecap:butt;stroke-linejoin:miter;stroke-opacity:1\"/>\n",
       "<path class=\"bond-11 atom-11 atom-12\" d=\"M 426.011,267.518 L 451.972,241.581\" style=\"fill:none;fill-rule:evenodd;stroke:#000000;stroke-width:2.0px;stroke-linecap:butt;stroke-linejoin:miter;stroke-opacity:1\"/>\n",
       "<path class=\"bond-12 atom-12 atom-13\" d=\"M 451.972,241.581 L 442.49,206.13\" style=\"fill:none;fill-rule:evenodd;stroke:#000000;stroke-width:2.0px;stroke-linecap:butt;stroke-linejoin:miter;stroke-opacity:1\"/>\n",
       "<path class=\"bond-12 atom-12 atom-13\" d=\"M 443.459,238.16 L 436.822,213.344\" style=\"fill:none;fill-rule:evenodd;stroke:#000000;stroke-width:2.0px;stroke-linecap:butt;stroke-linejoin:miter;stroke-opacity:1\"/>\n",
       "<path class=\"bond-13 atom-13 atom-14\" d=\"M 442.49,206.13 L 453.009,195.622\" style=\"fill:none;fill-rule:evenodd;stroke:#000000;stroke-width:2.0px;stroke-linecap:butt;stroke-linejoin:miter;stroke-opacity:1\"/>\n",
       "<path class=\"bond-13 atom-13 atom-14\" d=\"M 453.009,195.622 L 463.527,185.114\" style=\"fill:none;fill-rule:evenodd;stroke:#00CC00;stroke-width:2.0px;stroke-linecap:butt;stroke-linejoin:miter;stroke-opacity:1\"/>\n",
       "<path class=\"bond-14 atom-13 atom-15\" d=\"M 442.49,206.13 L 407.048,196.616\" style=\"fill:none;fill-rule:evenodd;stroke:#000000;stroke-width:2.0px;stroke-linecap:butt;stroke-linejoin:miter;stroke-opacity:1\"/>\n",
       "<path class=\"bond-15 atom-15 atom-16\" d=\"M 407.048,196.616 L 381.087,222.552\" style=\"fill:none;fill-rule:evenodd;stroke:#000000;stroke-width:2.0px;stroke-linecap:butt;stroke-linejoin:miter;stroke-opacity:1\"/>\n",
       "<path class=\"bond-15 atom-15 atom-16\" d=\"M 408.341,205.698 L 390.169,223.854\" style=\"fill:none;fill-rule:evenodd;stroke:#000000;stroke-width:2.0px;stroke-linecap:butt;stroke-linejoin:miter;stroke-opacity:1\"/>\n",
       "<path class=\"bond-17 atom-17 atom-18\" d=\"M 343.573,253.869 L 307.014,257.05\" style=\"fill:none;fill-rule:evenodd;stroke:#000000;stroke-width:2.0px;stroke-linecap:butt;stroke-linejoin:miter;stroke-opacity:1\"/>\n",
       "<path class=\"bond-19 atom-19 atom-20\" d=\"M 139.744,239.704 L 118.709,209.634\" style=\"fill:none;fill-rule:evenodd;stroke:#000000;stroke-width:2.0px;stroke-linecap:butt;stroke-linejoin:miter;stroke-opacity:1\"/>\n",
       "<path class=\"bond-19 atom-19 atom-20\" d=\"M 130.574,239.4 L 115.85,218.351\" style=\"fill:none;fill-rule:evenodd;stroke:#000000;stroke-width:2.0px;stroke-linecap:butt;stroke-linejoin:miter;stroke-opacity:1\"/>\n",
       "<path class=\"bond-26 atom-25 atom-19\" d=\"M 124.219,272.956 L 139.744,239.704\" style=\"fill:none;fill-rule:evenodd;stroke:#000000;stroke-width:2.0px;stroke-linecap:butt;stroke-linejoin:miter;stroke-opacity:1\"/>\n",
       "<path class=\"bond-20 atom-20 atom-21\" d=\"M 118.709,209.634 L 82.1503,212.815\" style=\"fill:none;fill-rule:evenodd;stroke:#000000;stroke-width:2.0px;stroke-linecap:butt;stroke-linejoin:miter;stroke-opacity:1\"/>\n",
       "<path class=\"bond-21 atom-21 atom-22\" d=\"M 82.1503,212.815 L 66.6257,246.066\" style=\"fill:none;fill-rule:evenodd;stroke:#000000;stroke-width:2.0px;stroke-linecap:butt;stroke-linejoin:miter;stroke-opacity:1\"/>\n",
       "<path class=\"bond-21 atom-21 atom-22\" d=\"M 86.4719,220.907 L 75.6047,244.183\" style=\"fill:none;fill-rule:evenodd;stroke:#000000;stroke-width:2.0px;stroke-linecap:butt;stroke-linejoin:miter;stroke-opacity:1\"/>\n",
       "<path class=\"bond-22 atom-22 atom-23\" d=\"M 66.6257,246.066 L 50.3499,247.482\" style=\"fill:none;fill-rule:evenodd;stroke:#000000;stroke-width:2.0px;stroke-linecap:butt;stroke-linejoin:miter;stroke-opacity:1\"/>\n",
       "<path class=\"bond-22 atom-22 atom-23\" d=\"M 50.3499,247.482 L 34.074,248.898\" style=\"fill:none;fill-rule:evenodd;stroke:#33CCCC;stroke-width:2.0px;stroke-linecap:butt;stroke-linejoin:miter;stroke-opacity:1\"/>\n",
       "<path class=\"bond-23 atom-22 atom-24\" d=\"M 66.6257,246.066 L 87.66,276.137\" style=\"fill:none;fill-rule:evenodd;stroke:#000000;stroke-width:2.0px;stroke-linecap:butt;stroke-linejoin:miter;stroke-opacity:1\"/>\n",
       "<path class=\"bond-24 atom-24 atom-25\" d=\"M 87.66,276.137 L 124.219,272.956\" style=\"fill:none;fill-rule:evenodd;stroke:#000000;stroke-width:2.0px;stroke-linecap:butt;stroke-linejoin:miter;stroke-opacity:1\"/>\n",
       "<path class=\"bond-24 atom-24 atom-25\" d=\"M 92.5077,268.348 L 118.099,266.121\" style=\"fill:none;fill-rule:evenodd;stroke:#000000;stroke-width:2.0px;stroke-linecap:butt;stroke-linejoin:miter;stroke-opacity:1\"/>\n",
       "<path class=\"atom-0\" d=\"M 187.057 203.301 Q 187.057 200.805, 188.29 199.411 Q 189.523 198.016, 191.827 198.016 Q 194.132 198.016, 195.365 199.411 Q 196.598 200.805, 196.598 203.301 Q 196.598 205.826, 195.35 207.264 Q 194.102 208.688, 191.827 208.688 Q 189.537 208.688, 188.29 207.264 Q 187.057 205.84, 187.057 203.301 M 191.827 207.514 Q 193.413 207.514, 194.264 206.457 Q 195.13 205.385, 195.13 203.301 Q 195.13 201.26, 194.264 200.233 Q 193.413 199.191, 191.827 199.191 Q 190.242 199.191, 189.376 200.218 Q 188.525 201.246, 188.525 203.301 Q 188.525 205.4, 189.376 206.457 Q 190.242 207.514, 191.827 207.514 \" fill=\"#FF0000\"/>\n",
       "<path class=\"atom-5\" d=\"M 289.192 285.105 L 292.598 290.61 Q 292.935 291.153, 293.478 292.137 Q 294.021 293.12, 294.051 293.179 L 294.051 285.105 L 295.431 285.105 L 295.431 295.498 L 294.007 295.498 L 290.352 289.48 Q 289.926 288.775, 289.471 287.968 Q 289.031 287.161, 288.899 286.911 L 288.899 295.498 L 287.548 295.498 L 287.548 285.105 L 289.192 285.105 \" fill=\"#0000FF\"/>\n",
       "<path class=\"atom-9\" d=\"M 389.887 305.032 Q 389.887 302.536, 391.12 301.142 Q 392.353 299.747, 394.658 299.747 Q 396.962 299.747, 398.195 301.142 Q 399.428 302.536, 399.428 305.032 Q 399.428 307.557, 398.181 308.995 Q 396.933 310.419, 394.658 310.419 Q 392.368 310.419, 391.12 308.995 Q 389.887 307.571, 389.887 305.032 M 394.658 309.245 Q 396.243 309.245, 397.095 308.188 Q 397.961 307.116, 397.961 305.032 Q 397.961 302.992, 397.095 301.964 Q 396.243 300.922, 394.658 300.922 Q 393.073 300.922, 392.206 301.949 Q 391.355 302.977, 391.355 305.032 Q 391.355 307.131, 392.206 308.188 Q 393.073 309.245, 394.658 309.245 \" fill=\"#FF0000\"/>\n",
       "<path class=\"atom-9\" d=\"M 400.676 299.865 L 402.085 299.865 L 402.085 304.283 L 407.399 304.283 L 407.399 299.865 L 408.808 299.865 L 408.808 310.258 L 407.399 310.258 L 407.399 305.458 L 402.085 305.458 L 402.085 310.258 L 400.676 310.258 L 400.676 299.865 \" fill=\"#FF0000\"/>\n",
       "<path class=\"atom-14\" d=\"M 464.444 180.553 Q 464.444 177.97, 465.648 176.619 Q 466.866 175.254, 469.171 175.254 Q 471.314 175.254, 472.459 176.766 L 471.49 177.559 Q 470.653 176.458, 469.171 176.458 Q 467.6 176.458, 466.763 177.515 Q 465.941 178.557, 465.941 180.553 Q 465.941 182.608, 466.793 183.665 Q 467.659 184.722, 469.332 184.722 Q 470.477 184.722, 471.813 184.032 L 472.224 185.133 Q 471.681 185.485, 470.859 185.691 Q 470.037 185.896, 469.127 185.896 Q 466.866 185.896, 465.648 184.517 Q 464.444 183.137, 464.444 180.553 \" fill=\"#00CC00\"/>\n",
       "<path class=\"atom-14\" d=\"M 473.721 174.623 L 475.072 174.623 L 475.072 185.764 L 473.721 185.764 L 473.721 174.623 \" fill=\"#00CC00\"/>\n",
       "<path class=\"atom-23\" d=\"M 26.9768 244.051 L 33.1566 244.051 L 33.1566 245.24 L 28.3713 245.24 L 28.3713 248.396 L 32.6282 248.396 L 32.6282 249.599 L 28.3713 249.599 L 28.3713 254.443 L 26.9768 254.443 L 26.9768 244.051 \" fill=\"#33CCCC\"/>\n",
       "</svg>"
      ],
      "text/plain": [
       "<IPython.core.display.SVG object>"
      ]
     },
     "execution_count": 9,
     "metadata": {},
     "output_type": "execute_result"
    }
   ],
   "source": [
    "example_smiles = 'O=C(CCCN1CCC(O)(c2ccc(Cl)cc2)CC1)c1ccc(F)cc1'\n",
    "mol = Chem.MolFromSmiles(example_smiles)\n",
    "\n",
    "featurizer = GraphFeaturizer(y_column='solubility')\n",
    "graph = featurizer(example_smiles)\n",
    "X, E = graph[0]\n",
    "\n",
    "data = Data(x=torch.FloatTensor(X), edge_index=torch.LongTensor(E))\n",
    "\n",
    "x, edge_index, batch = data.x, data.edge_index, data.batch\n",
    "\n",
    "pred = model(x, edge_index, torch.zeros(x.shape[0], dtype=torch.int64))\n",
    "pred.backward()\n",
    "print(\"Prediction:\", pred.data.cpu().numpy()[0][0]) \n",
    "\n",
    "atom_weights = grad_cam(model.final_conv_acts, model.final_conv_grads)    \n",
    "    \n",
    "draw_gradcam(atom_weights, mol)"
   ]
  },
  {
   "cell_type": "markdown",
   "metadata": {},
   "source": [
    "## Graph model predictions"
   ]
  },
  {
   "cell_type": "code",
   "execution_count": 14,
   "metadata": {},
   "outputs": [],
   "source": [
    "df_test_smiles = pd.read_csv(\"../../data/train/solubility/solub_smiles_test.csv\")\n",
    "X_test_smiles = df_test_smiles['smiles']\n",
    "\n",
    "graph_predictions = []\n",
    "\n",
    "for smiles in X_test_smiles:\n",
    "    featurizer = GraphFeaturizer(y_column='pIC50')\n",
    "    graph = featurizer(smiles)\n",
    "    X, E = graph[0]\n",
    "    data = Data(x=torch.FloatTensor(X), edge_index=torch.LongTensor(E))\n",
    "\n",
    "    x, edge_index, batch = data.x, data.edge_index, data.batch\n",
    "\n",
    "    pred = model(x, edge_index, torch.zeros(x.shape[0], dtype=torch.int64))\n",
    "    pred.backward()\n",
    "    \n",
    "    graph_predictions.append(pred.data.cpu().numpy()[0][0])\n",
    "    \n",
    "graph_predictions = np.array(graph_predictions) "
   ]
  },
  {
   "cell_type": "code",
   "execution_count": 15,
   "metadata": {},
   "outputs": [
    {
     "name": "stdout",
     "output_type": "stream",
     "text": [
      "MAE: 0.6096902416786479\n",
      "MSE: 0.5928870708902692\n",
      "RMSE: 0.7699916044284308\n",
      "R2 Square 0.35232360173343646 \n",
      "\n"
     ]
    }
   ],
   "source": [
    "print_evaluate(y_test, graph_predictions)"
   ]
  },
  {
   "cell_type": "markdown",
   "metadata": {},
   "source": [
    "# Models comparasion"
   ]
  },
  {
   "cell_type": "code",
   "execution_count": 10,
   "metadata": {},
   "outputs": [],
   "source": [
    "def print_evaluate(true, predicted):  \n",
    "    mae = metrics.mean_absolute_error(true, predicted)\n",
    "    mse = metrics.mean_squared_error(true, predicted)\n",
    "    rmse = np.sqrt(metrics.mean_squared_error(true, predicted))\n",
    "    r2_square = metrics.r2_score(true, predicted)\n",
    "    print('MAE:', mae)\n",
    "    print('MSE:', mse)\n",
    "    print('RMSE:', rmse)\n",
    "    print('R2 Square', r2_square, '\\n')\n",
    "    \n",
    "def evaluate(true, predicted):\n",
    "    mae = metrics.mean_absolute_error(true, predicted)\n",
    "    mse = metrics.mean_squared_error(true, predicted)\n",
    "    rmse = np.sqrt(metrics.mean_squared_error(true, predicted))\n",
    "    r2_square = metrics.r2_score(true, predicted)\n",
    "    return mae, mse, rmse, r2_square"
   ]
  },
  {
   "cell_type": "markdown",
   "metadata": {},
   "source": [
    "## MACCS keys model\n",
    "\n",
    "Histogram-based Gradient Boosting Regression Tree"
   ]
  },
  {
   "cell_type": "code",
   "execution_count": 32,
   "metadata": {},
   "outputs": [],
   "source": [
    "df_test = pd.read_csv(\"../../data/train/solubility/solub_maccs_test.csv\")\n",
    "X_test_maccs = df_test.loc[:, df_test.columns != 'solubility']\n",
    "y_test_maccs = df_test['solubility']"
   ]
  },
  {
   "cell_type": "code",
   "execution_count": 12,
   "metadata": {},
   "outputs": [],
   "source": [
    "maccs_model = pickle.load(open('../../models/solub_maccs_hist_model.pkl', 'rb'))"
   ]
  },
  {
   "cell_type": "code",
   "execution_count": 28,
   "metadata": {},
   "outputs": [],
   "source": [
    "maccs_predictions  = maccs_model.predict(X_test_maccs)"
   ]
  },
  {
   "cell_type": "code",
   "execution_count": 29,
   "metadata": {},
   "outputs": [
    {
     "name": "stdout",
     "output_type": "stream",
     "text": [
      "MAE: 0.6359305898979593\n",
      "MSE: 0.6263361979663005\n",
      "RMSE: 0.7914140496391888\n",
      "R2 Square 0.31578340510335323 \n",
      "\n"
     ]
    }
   ],
   "source": [
    "print_evaluate(y_test, maccs_predictions)"
   ]
  },
  {
   "cell_type": "markdown",
   "metadata": {},
   "source": [
    "### Combination of models"
   ]
  },
  {
   "cell_type": "markdown",
   "metadata": {},
   "source": [
    "![Final](images/final.png)"
   ]
  },
  {
   "cell_type": "code",
   "execution_count": 17,
   "metadata": {},
   "outputs": [
    {
     "name": "stdout",
     "output_type": "stream",
     "text": [
      "MAE: 0.5904022168938496\n",
      "MSE: 0.5336890878866991\n",
      "RMSE: 0.7305402712285608\n",
      "R2 Square 0.41699213356501297 \n",
      "\n"
     ]
    }
   ],
   "source": [
    "average_predictions = (maccs_predictions + graph_predictions)/2\n",
    "print_evaluate(y_test, average_predictions)"
   ]
  },
  {
   "cell_type": "markdown",
   "metadata": {},
   "source": [
    "## Pubchem fingerprint model"
   ]
  },
  {
   "cell_type": "code",
   "execution_count": 33,
   "metadata": {},
   "outputs": [],
   "source": [
    "df_test = pd.read_csv(\"../../data/train/solubility/solub_pubchem_test.csv\")\n",
    "X_test_pubchem = df_test.loc[:, df_test.columns != 'solubility']\n",
    "y_test_pubchem = df_test['solubility']"
   ]
  },
  {
   "cell_type": "code",
   "execution_count": 34,
   "metadata": {},
   "outputs": [],
   "source": [
    "with open('../../pubchem_idxs.txt', 'r') as f:\n",
    "    idxs = json.load(f) \n",
    "X_test_pubchem = X_test_pubchem[idxs['solubility']]"
   ]
  },
  {
   "cell_type": "code",
   "execution_count": 35,
   "metadata": {},
   "outputs": [],
   "source": [
    "pubchem_model = pickle.load(open('../../models/solub_pubchem_rf_model.pkl', 'rb'))"
   ]
  },
  {
   "cell_type": "code",
   "execution_count": 36,
   "metadata": {},
   "outputs": [],
   "source": [
    "pubchem_predictions  = pubchem_model.predict(X_test_pubchem)"
   ]
  },
  {
   "cell_type": "code",
   "execution_count": 37,
   "metadata": {},
   "outputs": [
    {
     "name": "stdout",
     "output_type": "stream",
     "text": [
      "MAE: 0.6272015280653621\n",
      "MSE: 0.5871693299042482\n",
      "RMSE: 0.7662697500908203\n",
      "R2 Square 0.3585697252700595 \n",
      "\n"
     ]
    }
   ],
   "source": [
    "print_evaluate(y_test, pubchem_predictions)"
   ]
  },
  {
   "cell_type": "markdown",
   "metadata": {},
   "source": [
    "### Combination of models"
   ]
  },
  {
   "cell_type": "code",
   "execution_count": 38,
   "metadata": {},
   "outputs": [
    {
     "name": "stdout",
     "output_type": "stream",
     "text": [
      "MAE: 0.5910010204783124\n",
      "MSE: 0.5223089537039441\n",
      "RMSE: 0.7227094531718429\n",
      "R2 Square 0.42942391810065705 \n",
      "\n"
     ]
    }
   ],
   "source": [
    "average_predictions = (pubchem_predictions + graph_predictions)/2\n",
    "print_evaluate(y_test, average_predictions)"
   ]
  },
  {
   "cell_type": "code",
   "execution_count": null,
   "metadata": {},
   "outputs": [],
   "source": []
  }
 ],
 "metadata": {
  "kernelspec": {
   "display_name": "Python 3",
   "language": "python",
   "name": "python3"
  },
  "language_info": {
   "codemirror_mode": {
    "name": "ipython",
    "version": 3
   },
   "file_extension": ".py",
   "mimetype": "text/x-python",
   "name": "python",
   "nbconvert_exporter": "python",
   "pygments_lexer": "ipython3",
   "version": "3.8.5"
  }
 },
 "nbformat": 4,
 "nbformat_minor": 4
}
